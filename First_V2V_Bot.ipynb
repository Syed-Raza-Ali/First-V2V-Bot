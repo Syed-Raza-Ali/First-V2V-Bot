{
  "nbformat": 4,
  "nbformat_minor": 0,
  "metadata": {
    "colab": {
      "provenance": [],
      "authorship_tag": "ABX9TyMLeEwes2IQB5d9IPQp2vk8",
      "include_colab_link": true
    },
    "kernelspec": {
      "name": "python3",
      "display_name": "Python 3"
    },
    "language_info": {
      "name": "python"
    }
  },
  "cells": [
    {
      "cell_type": "markdown",
      "metadata": {
        "id": "view-in-github",
        "colab_type": "text"
      },
      "source": [
        "<a href=\"https://colab.research.google.com/github/Syed-Raza-Ali/First-V2V-Bot/blob/main/First_V2V_Bot.ipynb\" target=\"_parent\"><img src=\"https://colab.research.google.com/assets/colab-badge.svg\" alt=\"Open In Colab\"/></a>"
      ]
    },
    {
      "cell_type": "markdown",
      "source": [
        "- **Python By Pak Angels (Online Classes)**\n",
        "- **FIRST V2V BOT BASED IN PYTHON**"
      ],
      "metadata": {
        "id": "dFl_TaC1f0Ea"
      }
    },
    {
      "cell_type": "code",
      "source": [
        "!pip install openai-whisper gradio gtts groq"
      ],
      "metadata": {
        "collapsed": true,
        "id": "e036V-aWB3xz"
      },
      "execution_count": null,
      "outputs": []
    },
    {
      "cell_type": "code",
      "source": [
        "import os\n",
        "os.environ[\"GROQ_API_KEY\"] = \"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\""
      ],
      "metadata": {
        "id": "2qVBlExyDWg9"
      },
      "execution_count": null,
      "outputs": []
    },
    {
      "cell_type": "code",
      "source": [
        "import whisper\n",
        "import os\n",
        "from gtts import gTTS\n",
        "from groq import Groq\n",
        "import requests\n",
        "import gradio as gr\n",
        "\n",
        "model = whisper.load_model(\"base\")\n",
        "\n",
        "client = Groq(api_key=os.environ.get(\"GROQ_API_KEY\"))\n",
        "\n",
        "def get_llm_response(user_input):\n",
        "    chat_completion = client.chat.completions.create(\n",
        "        messages=[{\"role\": \"user\", \"content\": user_input}],\n",
        "        model=\"llama3-8b-8192\",\n",
        "    )\n",
        "    return chat_completion.choices[0].message.content\n",
        "\n",
        "def text_to_speech(text, output_audio=\"output_audio.mp3\"):\n",
        "    tts = gTTS(text)\n",
        "    tts.save(output_audio)\n",
        "    return output_audio\n",
        "\n",
        "def chatbot(audio):\n",
        "    result = model.transcribe(audio)\n",
        "    user_text =result[\"text\"]\n",
        "\n",
        "\n",
        "    response_text = get_llm_response(user_text)\n",
        "    output_audio = text_to_speech(response_text)\n",
        "\n",
        "    return response_text, output_audio\n",
        "\n",
        "iface = gr.Interface(\n",
        "    fn=chatbot,\n",
        "    inputs=gr.Audio(type=\"filepath\"),\n",
        "    outputs=[gr.Textbox(), gr.Audio(type=\"filepath\")],\n",
        "    live=True,\n",
        ")\n",
        "\n",
        "iface.launch()"
      ],
      "metadata": {
        "id": "75daSyVY0K91"
      },
      "execution_count": null,
      "outputs": []
    }
  ]
}